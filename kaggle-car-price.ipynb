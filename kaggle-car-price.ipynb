{
 "cells": [
  {
   "cell_type": "code",
   "execution_count": 1,
   "metadata": {
    "ExecuteTime": {
     "end_time": "2020-08-26T01:47:02.067071Z",
     "start_time": "2020-08-26T01:47:02.064072Z"
    }
   },
   "outputs": [],
   "source": [
    "import numpy as np\n",
    "import pandas as pd\n",
    "import matplotlib.pyplot as plt\n",
    "import seaborn as sns"
   ]
  },
  {
   "cell_type": "markdown",
   "metadata": {},
   "source": [
    "## Mengubah parameter default matplotlib\n",
    "Parameter default matplotlib dapat diubah dengan rcParams sebagai berikut\n"
   ]
  },
  {
   "cell_type": "code",
   "execution_count": 2,
   "metadata": {
    "ExecuteTime": {
     "end_time": "2020-08-26T01:47:02.387221Z",
     "start_time": "2020-08-26T01:47:02.384238Z"
    }
   },
   "outputs": [],
   "source": [
    "from matplotlib import rcParams\n",
    "rcParams['figure.figsize'] = 12, 4\n",
    "rcParams['lines.linewidth'] = 2\n",
    "rcParams['xtick.labelsize'] = 'x-large'\n",
    "rcParams['ytick.labelsize'] = 'x-large'"
   ]
  },
  {
   "cell_type": "markdown",
   "metadata": {},
   "source": [
    "# STEP 1 : PRE-PROCESSING"
   ]
  },
  {
   "cell_type": "markdown",
   "metadata": {},
   "source": [
    "## Load dataset"
   ]
  },
  {
   "cell_type": "markdown",
   "metadata": {},
   "source": [
    "Load dataset yang ingin dipre-process dengan menggunakan `pd.read_csv()`."
   ]
  },
  {
   "cell_type": "code",
   "execution_count": 3,
   "metadata": {},
   "outputs": [
    {
     "data": {
      "text/html": [
       "<div>\n",
       "<style scoped>\n",
       "    .dataframe tbody tr th:only-of-type {\n",
       "        vertical-align: middle;\n",
       "    }\n",
       "\n",
       "    .dataframe tbody tr th {\n",
       "        vertical-align: top;\n",
       "    }\n",
       "\n",
       "    .dataframe thead th {\n",
       "        text-align: right;\n",
       "    }\n",
       "</style>\n",
       "<table border=\"1\" class=\"dataframe\">\n",
       "  <thead>\n",
       "    <tr style=\"text-align: right;\">\n",
       "      <th></th>\n",
       "      <th>No</th>\n",
       "      <th>Name</th>\n",
       "      <th>Location</th>\n",
       "      <th>Year</th>\n",
       "      <th>Kilometers_Driven</th>\n",
       "      <th>Fuel_Type</th>\n",
       "      <th>Transmission</th>\n",
       "      <th>Owner_Type</th>\n",
       "      <th>Mileage</th>\n",
       "      <th>Engine</th>\n",
       "      <th>Power</th>\n",
       "      <th>Seats</th>\n",
       "      <th>New_Price</th>\n",
       "      <th>Price</th>\n",
       "    </tr>\n",
       "  </thead>\n",
       "  <tbody>\n",
       "    <tr>\n",
       "      <th>1103</th>\n",
       "      <td>1103</td>\n",
       "      <td>Tata Hexa XT</td>\n",
       "      <td>Delhi</td>\n",
       "      <td>2017</td>\n",
       "      <td>55000</td>\n",
       "      <td>Diesel</td>\n",
       "      <td>Manual</td>\n",
       "      <td>First</td>\n",
       "      <td>17.6 kmpl</td>\n",
       "      <td>2179 CC</td>\n",
       "      <td>153.86 bhp</td>\n",
       "      <td>7.0</td>\n",
       "      <td>19.86 Lakh</td>\n",
       "      <td>12.00</td>\n",
       "    </tr>\n",
       "    <tr>\n",
       "      <th>2527</th>\n",
       "      <td>2527</td>\n",
       "      <td>Hyundai Santro Xing XO CNG</td>\n",
       "      <td>Pune</td>\n",
       "      <td>2005</td>\n",
       "      <td>100000</td>\n",
       "      <td>CNG</td>\n",
       "      <td>Manual</td>\n",
       "      <td>Third</td>\n",
       "      <td>17.0 km/kg</td>\n",
       "      <td>1086 CC</td>\n",
       "      <td>null bhp</td>\n",
       "      <td>5.0</td>\n",
       "      <td>NaN</td>\n",
       "      <td>1.20</td>\n",
       "    </tr>\n",
       "    <tr>\n",
       "      <th>3827</th>\n",
       "      <td>3827</td>\n",
       "      <td>Hyundai Xcent 1.2 Kappa SX Option</td>\n",
       "      <td>Bangalore</td>\n",
       "      <td>2016</td>\n",
       "      <td>50000</td>\n",
       "      <td>Petrol</td>\n",
       "      <td>Manual</td>\n",
       "      <td>First</td>\n",
       "      <td>19.1 kmpl</td>\n",
       "      <td>1197 CC</td>\n",
       "      <td>82 bhp</td>\n",
       "      <td>5.0</td>\n",
       "      <td>NaN</td>\n",
       "      <td>2.50</td>\n",
       "    </tr>\n",
       "    <tr>\n",
       "      <th>2459</th>\n",
       "      <td>2459</td>\n",
       "      <td>Ford EcoSport 1.5 Diesel Titanium</td>\n",
       "      <td>Mumbai</td>\n",
       "      <td>2017</td>\n",
       "      <td>30000</td>\n",
       "      <td>Diesel</td>\n",
       "      <td>Manual</td>\n",
       "      <td>First</td>\n",
       "      <td>23.0 kmpl</td>\n",
       "      <td>1498 CC</td>\n",
       "      <td>98.96 bhp</td>\n",
       "      <td>5.0</td>\n",
       "      <td>11.89 Lakh</td>\n",
       "      <td>8.99</td>\n",
       "    </tr>\n",
       "    <tr>\n",
       "      <th>2071</th>\n",
       "      <td>2071</td>\n",
       "      <td>Chevrolet Beat LT</td>\n",
       "      <td>Pune</td>\n",
       "      <td>2011</td>\n",
       "      <td>65000</td>\n",
       "      <td>Petrol</td>\n",
       "      <td>Manual</td>\n",
       "      <td>Second</td>\n",
       "      <td>18.6 kmpl</td>\n",
       "      <td>1199 CC</td>\n",
       "      <td>79.4 bhp</td>\n",
       "      <td>5.0</td>\n",
       "      <td>NaN</td>\n",
       "      <td>2.50</td>\n",
       "    </tr>\n",
       "  </tbody>\n",
       "</table>\n",
       "</div>"
      ],
      "text/plain": [
       "        No                               Name   Location  Year  \\\n",
       "1103  1103                       Tata Hexa XT      Delhi  2017   \n",
       "2527  2527         Hyundai Santro Xing XO CNG       Pune  2005   \n",
       "3827  3827  Hyundai Xcent 1.2 Kappa SX Option  Bangalore  2016   \n",
       "2459  2459  Ford EcoSport 1.5 Diesel Titanium     Mumbai  2017   \n",
       "2071  2071                  Chevrolet Beat LT       Pune  2011   \n",
       "\n",
       "      Kilometers_Driven Fuel_Type Transmission Owner_Type     Mileage  \\\n",
       "1103              55000    Diesel       Manual      First   17.6 kmpl   \n",
       "2527             100000       CNG       Manual      Third  17.0 km/kg   \n",
       "3827              50000    Petrol       Manual      First   19.1 kmpl   \n",
       "2459              30000    Diesel       Manual      First   23.0 kmpl   \n",
       "2071              65000    Petrol       Manual     Second   18.6 kmpl   \n",
       "\n",
       "       Engine       Power  Seats   New_Price  Price  \n",
       "1103  2179 CC  153.86 bhp    7.0  19.86 Lakh  12.00  \n",
       "2527  1086 CC    null bhp    5.0         NaN   1.20  \n",
       "3827  1197 CC      82 bhp    5.0         NaN   2.50  \n",
       "2459  1498 CC   98.96 bhp    5.0  11.89 Lakh   8.99  \n",
       "2071  1199 CC    79.4 bhp    5.0         NaN   2.50  "
      ]
     },
     "execution_count": 3,
     "metadata": {},
     "output_type": "execute_result"
    }
   ],
   "source": [
    "df = pd.read_csv('train-data.csv')\n",
    "df.sample(5)"
   ]
  },
  {
   "cell_type": "markdown",
   "metadata": {},
   "source": [
    "Pastikan isi dataset dengan menggunakan `df.info()` dan `df.describe()`. Pisahkan kolom menjadi numerik dan kategorikal apabila diperlukan."
   ]
  },
  {
   "cell_type": "code",
   "execution_count": 4,
   "metadata": {},
   "outputs": [
    {
     "name": "stdout",
     "output_type": "stream",
     "text": [
      "<class 'pandas.core.frame.DataFrame'>\n",
      "RangeIndex: 6019 entries, 0 to 6018\n",
      "Data columns (total 14 columns):\n",
      " #   Column             Non-Null Count  Dtype  \n",
      "---  ------             --------------  -----  \n",
      " 0   No                 6019 non-null   int64  \n",
      " 1   Name               6019 non-null   object \n",
      " 2   Location           6019 non-null   object \n",
      " 3   Year               6019 non-null   int64  \n",
      " 4   Kilometers_Driven  6019 non-null   int64  \n",
      " 5   Fuel_Type          6019 non-null   object \n",
      " 6   Transmission       6019 non-null   object \n",
      " 7   Owner_Type         6019 non-null   object \n",
      " 8   Mileage            6017 non-null   object \n",
      " 9   Engine             5983 non-null   object \n",
      " 10  Power              5983 non-null   object \n",
      " 11  Seats              5977 non-null   float64\n",
      " 12  New_Price          824 non-null    object \n",
      " 13  Price              6019 non-null   float64\n",
      "dtypes: float64(2), int64(3), object(9)\n",
      "memory usage: 658.5+ KB\n"
     ]
    }
   ],
   "source": [
    "df.info()"
   ]
  },
  {
   "cell_type": "code",
   "execution_count": 5,
   "metadata": {},
   "outputs": [
    {
     "data": {
      "image/png": "[encoded data removed]",
      "text/plain": [
       "<Figure size 576x288 with 3 Axes>"
      ]
     },
     "metadata": {
      "needs_background": "light"
     },
     "output_type": "display_data"
    }
   ],
   "source": [
    "nums = ['Year','Kilometers_Driven','Seats']\n",
    "features = nums\n",
    "plt.figure(figsize=(8,4))\n",
    "for i in range(0, len(features)):\n",
    "    plt.subplot(1,len(features), i+1)\n",
    "    sns.boxplot(df[features[i]], color='yellow',orient='v')\n",
    "    plt.rc('ytick', labelsize=10)\n",
    "    plt.tight_layout()"
   ]
  },
  {
   "cell_type": "code",
   "execution_count": 6,
   "metadata": {},
   "outputs": [
    {
     "name": "stderr",
     "output_type": "stream",
     "text": [
      "D:\\Work\\AnacondaPhyton\\lib\\site-packages\\seaborn\\distributions.py:369: UserWarning: Default bandwidth for data is 0; skipping density estimation.\n",
      "  warnings.warn(msg, UserWarning)\n"
     ]
    },
    {
     "data": {
      "image/png": "[encoded data removed]",
      "text/plain": [
       "<Figure size 1080x216 with 4 Axes>"
      ]
     },
     "metadata": {
      "needs_background": "light"
     },
     "output_type": "display_data"
    }
   ],
   "source": [
    "nums = ['Year','Kilometers_Driven','Seats','Price']\n",
    "features = nums\n",
    "plt.figure(figsize=(15,3))\n",
    "for i in range(0,len(features)):\n",
    "    plt.subplot(1,len(features),i+1)\n",
    "    sns.distplot(df[features[i]],color='green')\n",
    "    plt.rc('xtick', labelsize=8)\n",
    "    plt.tight_layout()"
   ]
  },
  {
   "cell_type": "code",
   "execution_count": 7,
   "metadata": {},
   "outputs": [
    {
     "data": {
      "text/html": [
       "<div>\n",
       "<style scoped>\n",
       "    .dataframe tbody tr th:only-of-type {\n",
       "        vertical-align: middle;\n",
       "    }\n",
       "\n",
       "    .dataframe tbody tr th {\n",
       "        vertical-align: top;\n",
       "    }\n",
       "\n",
       "    .dataframe thead tr th {\n",
       "        text-align: left;\n",
       "    }\n",
       "</style>\n",
       "<table border=\"1\" class=\"dataframe\">\n",
       "  <thead>\n",
       "    <tr>\n",
       "      <th></th>\n",
       "      <th>Year</th>\n",
       "      <th>Kilometers_Driven</th>\n",
       "      <th>Price</th>\n",
       "    </tr>\n",
       "    <tr>\n",
       "      <th></th>\n",
       "      <th></th>\n",
       "      <th>sum</th>\n",
       "      <th>count</th>\n",
       "    </tr>\n",
       "  </thead>\n",
       "  <tbody>\n",
       "    <tr>\n",
       "      <th>count</th>\n",
       "      <td>22.000000</td>\n",
       "      <td>2.200000e+01</td>\n",
       "      <td>22.000000</td>\n",
       "    </tr>\n",
       "    <tr>\n",
       "      <th>mean</th>\n",
       "      <td>2008.500000</td>\n",
       "      <td>1.607029e+07</td>\n",
       "      <td>273.590909</td>\n",
       "    </tr>\n",
       "    <tr>\n",
       "      <th>std</th>\n",
       "      <td>6.493587</td>\n",
       "      <td>1.606432e+07</td>\n",
       "      <td>286.405749</td>\n",
       "    </tr>\n",
       "    <tr>\n",
       "      <th>min</th>\n",
       "      <td>1998.000000</td>\n",
       "      <td>2.100000e+05</td>\n",
       "      <td>2.000000</td>\n",
       "    </tr>\n",
       "    <tr>\n",
       "      <th>25%</th>\n",
       "      <td>2003.250000</td>\n",
       "      <td>1.554247e+06</td>\n",
       "      <td>20.500000</td>\n",
       "    </tr>\n",
       "    <tr>\n",
       "      <th>50%</th>\n",
       "      <td>2008.500000</td>\n",
       "      <td>9.094397e+06</td>\n",
       "      <td>149.500000</td>\n",
       "    </tr>\n",
       "    <tr>\n",
       "      <th>75%</th>\n",
       "      <td>2013.750000</td>\n",
       "      <td>3.067726e+07</td>\n",
       "      <td>551.500000</td>\n",
       "    </tr>\n",
       "    <tr>\n",
       "      <th>max</th>\n",
       "      <td>2019.000000</td>\n",
       "      <td>4.512241e+07</td>\n",
       "      <td>797.000000</td>\n",
       "    </tr>\n",
       "  </tbody>\n",
       "</table>\n",
       "</div>"
      ],
      "text/plain": [
       "              Year Kilometers_Driven       Price\n",
       "                                 sum       count\n",
       "count    22.000000      2.200000e+01   22.000000\n",
       "mean   2008.500000      1.607029e+07  273.590909\n",
       "std       6.493587      1.606432e+07  286.405749\n",
       "min    1998.000000      2.100000e+05    2.000000\n",
       "25%    2003.250000      1.554247e+06   20.500000\n",
       "50%    2008.500000      9.094397e+06  149.500000\n",
       "75%    2013.750000      3.067726e+07  551.500000\n",
       "max    2019.000000      4.512241e+07  797.000000"
      ]
     },
     "execution_count": 7,
     "metadata": {},
     "output_type": "execute_result"
    }
   ],
   "source": [
    "car_business = df.groupby('Year').agg({'Kilometers_Driven':['sum'],'Price':['count']}).reset_index()\n",
    "car_business.describe()"
   ]
  },
  {
   "cell_type": "code",
   "execution_count": 8,
   "metadata": {},
   "outputs": [
    {
     "data": {
      "image/png": "[encoded data removed]",
      "text/plain": [
       "<Figure size 864x576 with 2 Axes>"
      ]
     },
     "metadata": {
      "needs_background": "light"
     },
     "output_type": "display_data"
    }
   ],
   "source": [
    "year = car_business['Year']\n",
    "Kilometer = car_business['Kilometers_Driven']\n",
    "Price = car_business['Price']\n",
    "\n",
    "fig, ax = plt.subplots(2, 1, figsize = (12, 8))\n",
    "ax[0].plot(year, Kilometer, color ='blue', label = \"Kilometer Driven\")\n",
    "ax[1].plot(year, Price, color ='red', label = \" Car Price\")\n",
    "\n",
    "ax[0].set_xlim(1998, 2019)\n",
    "ax[0].set_ylim(0, 50000000)\n",
    "ax[0].ticklabel_format(useOffset=False, style='plain')\n",
    "\n",
    "\n",
    "ax[1].set_xlim(1998, 2019)\n",
    "ax[1].set_ylim(0, 900)\n",
    "\n",
    "ax[0].set_xticks(range(1998, 2020, 1));\n",
    "ax[1].set_xticks(range(1998, 2020, 1));\n",
    "\n",
    "\n",
    "ax[0].legend(loc = 'upper left')\n",
    "ax[1].legend(loc = 'upper left')\n",
    "\n",
    "plt.show()"
   ]
  },
  {
   "cell_type": "markdown",
   "metadata": {},
   "source": [
    "## Missing Data"
   ]
  },
  {
   "cell_type": "markdown",
   "metadata": {},
   "source": [
    "Pertama, kita akan menangani data-data yang hilang. Cek jumlah data yang hilang dengan menggunakan `df.isna().sum()`."
   ]
  },
  {
   "cell_type": "code",
   "execution_count": 9,
   "metadata": {
    "ExecuteTime": {
     "end_time": "2020-08-30T02:00:03.306166Z",
     "start_time": "2020-08-30T02:00:03.302166Z"
    }
   },
   "outputs": [
    {
     "data": {
      "text/plain": [
       "No                      0\n",
       "Name                    0\n",
       "Location                0\n",
       "Year                    0\n",
       "Kilometers_Driven       0\n",
       "Fuel_Type               0\n",
       "Transmission            0\n",
       "Owner_Type              0\n",
       "Mileage                 2\n",
       "Engine                 36\n",
       "Power                  36\n",
       "Seats                  42\n",
       "New_Price            5195\n",
       "Price                   0\n",
       "dtype: int64"
      ]
     },
     "execution_count": 9,
     "metadata": {},
     "output_type": "execute_result"
    }
   ],
   "source": [
    "df.isna().sum()"
   ]
  },
  {
   "cell_type": "markdown",
   "metadata": {},
   "source": [
    "### Drop"
   ]
  },
  {
   "cell_type": "markdown",
   "metadata": {},
   "source": [
    "Berdasarkan EDA, berikut feature yang tidak digunakan: `Unnamed`, `Name`, `New_Price`.<br>\n",
    "Feature `Mileage`, `Engine`, dan `Power` di dataframe masih berupa type object/string dan akan kita ubah ke type numerik, dengan demikian baris yang kosong dihilangkan untuk mengurangi error."
   ]
  },
  {
   "cell_type": "code",
   "execution_count": 10,
   "metadata": {},
   "outputs": [
    {
     "data": {
      "text/plain": [
       "Location             0\n",
       "Year                 0\n",
       "Kilometers_Driven    0\n",
       "Fuel_Type            0\n",
       "Transmission         0\n",
       "Owner_Type           0\n",
       "Mileage              0\n",
       "Engine               0\n",
       "Power                0\n",
       "Seats                0\n",
       "Price                0\n",
       "dtype: int64"
      ]
     },
     "execution_count": 10,
     "metadata": {},
     "output_type": "execute_result"
    }
   ],
   "source": [
    "df = df.drop(df.columns[[0]],axis=1)\n",
    "df = df.drop(['Name','New_Price'],axis=1)\n",
    "df.dropna(subset=['Mileage','Engine','Power','Seats'], inplace=True)\n",
    "df.isna().sum()"
   ]
  },
  {
   "cell_type": "markdown",
   "metadata": {},
   "source": [
    "## Feature Engineering"
   ]
  },
  {
   "cell_type": "markdown",
   "metadata": {},
   "source": [
    "Ubah dari object ke numerik untuk feature-feature `nums` yang belum dalam bentuk numerik:"
   ]
  },
  {
   "cell_type": "code",
   "execution_count": 11,
   "metadata": {},
   "outputs": [
    {
     "name": "stdout",
     "output_type": "stream",
     "text": [
      "<class 'pandas.core.frame.DataFrame'>\n",
      "Int64Index: 5975 entries, 0 to 6018\n",
      "Data columns (total 11 columns):\n",
      " #   Column             Non-Null Count  Dtype  \n",
      "---  ------             --------------  -----  \n",
      " 0   Location           5975 non-null   object \n",
      " 1   Year               5975 non-null   int64  \n",
      " 2   Kilometers_Driven  5975 non-null   int64  \n",
      " 3   Fuel_Type          5975 non-null   object \n",
      " 4   Transmission       5975 non-null   object \n",
      " 5   Owner_Type         5975 non-null   object \n",
      " 6   Engine             5975 non-null   int64  \n",
      " 7   Power              5872 non-null   float64\n",
      " 8   Seats              5975 non-null   float64\n",
      " 9   Price              5975 non-null   float64\n",
      " 10  Mpg                5975 non-null   float64\n",
      "dtypes: float64(4), int64(3), object(4)\n",
      "memory usage: 560.2+ KB\n"
     ]
    }
   ],
   "source": [
    "#Milaege\n",
    "df['Mile'] = df.Mileage.str.split().str.get(0)\n",
    "df['Satuan'] = df.Mileage.str.split().str.get(1)\n",
    "df['Mile'] = pd.to_numeric(df['Mile']) \n",
    "df['Mpg'] = df.apply(lambda df: df[['Mile']]/0.669 if df['Satuan'] == 'kmpl' \n",
    "     else df[['Mile']]/0.827, axis=1)\n",
    "df = df.drop(['Mileage','Mile','Satuan'],axis=1)\n",
    "## 1 Liter petrol = 0.669USD\n",
    "## 1 Kg LPG = 0.827USD\n",
    "\n",
    "#Engine\n",
    "df['Engine'] = df.Engine.str.split().str.get(0)\n",
    "df['Engine'] = pd.to_numeric(df['Engine']) \n",
    "\n",
    "#Power\n",
    "df['Power'] = df.Power.str.split().str.get(0)\n",
    "df['Power'] = pd.to_numeric(df['Power'], errors='coerce')\n",
    "\n",
    "df.info() #cek tipe data apakah sudah sesuai"
   ]
  },
  {
   "cell_type": "code",
   "execution_count": 12,
   "metadata": {},
   "outputs": [],
   "source": [
    "nums = ['Year', 'Kilometers_Driven', 'Engine', 'Power', 'Seats', 'Price','Mpg']"
   ]
  },
  {
   "cell_type": "code",
   "execution_count": 13,
   "metadata": {},
   "outputs": [
    {
     "data": {
      "text/plain": [
       "Location               0\n",
       "Year                   0\n",
       "Kilometers_Driven      0\n",
       "Fuel_Type              0\n",
       "Transmission           0\n",
       "Owner_Type             0\n",
       "Engine                 0\n",
       "Power                103\n",
       "Seats                  0\n",
       "Price                  0\n",
       "Mpg                    0\n",
       "dtype: int64"
      ]
     },
     "execution_count": 13,
     "metadata": {},
     "output_type": "execute_result"
    }
   ],
   "source": [
    "df.isna().sum() #cek apa ada null"
   ]
  },
  {
   "cell_type": "code",
   "execution_count": 14,
   "metadata": {},
   "outputs": [
    {
     "data": {
      "text/plain": [
       "Location             0\n",
       "Year                 0\n",
       "Kilometers_Driven    0\n",
       "Fuel_Type            0\n",
       "Transmission         0\n",
       "Owner_Type           0\n",
       "Engine               0\n",
       "Power                0\n",
       "Seats                0\n",
       "Price                0\n",
       "Mpg                  0\n",
       "dtype: int64"
      ]
     },
     "execution_count": 14,
     "metadata": {},
     "output_type": "execute_result"
    }
   ],
   "source": [
    "df.dropna(subset=['Power'], inplace=True) #hapus data null\n",
    "df.isna().sum()"
   ]
  },
  {
   "cell_type": "markdown",
   "metadata": {},
   "source": [
    "## Outliers"
   ]
  },
  {
   "cell_type": "markdown",
   "metadata": {
    "ExecuteTime": {
     "end_time": "2020-08-30T02:08:30.678542Z",
     "start_time": "2020-08-30T02:08:30.672542Z"
    }
   },
   "source": [
    "Outlier ditangani karena distribusi data tidak normal."
   ]
  },
  {
   "cell_type": "markdown",
   "metadata": {},
   "source": [
    "### Menggunakan Z-score"
   ]
  },
  {
   "cell_type": "code",
   "execution_count": 15,
   "metadata": {},
   "outputs": [],
   "source": [
    "from scipy import stats"
   ]
  },
  {
   "cell_type": "code",
   "execution_count": 16,
   "metadata": {},
   "outputs": [
    {
     "name": "stdout",
     "output_type": "stream",
     "text": [
      "Jumlah baris sebelum memfilter outlier: 5872\n",
      "Jumlah baris setelah memfilter outlier: 5485\n"
     ]
    }
   ],
   "source": [
    "print(f'Jumlah baris sebelum memfilter outlier: {len(df)}')\n",
    "\n",
    "filtered_entries = np.array([True] * len(df))\n",
    "for col in nums:\n",
    "    zscore = abs(stats.zscore(df[col]))\n",
    "    filtered_entries = (zscore < 3) & filtered_entries\n",
    "    \n",
    "df = df[filtered_entries]\n",
    "\n",
    "print(f'Jumlah baris setelah memfilter outlier: {len(df)}')"
   ]
  },
  {
   "cell_type": "markdown",
   "metadata": {},
   "source": [
    "### Menggunakan IQR"
   ]
  },
  {
   "cell_type": "code",
   "execution_count": 17,
   "metadata": {
    "ExecuteTime": {
     "end_time": "2020-08-26T01:47:07.373261Z",
     "start_time": "2020-08-26T01:47:07.360269Z"
    }
   },
   "outputs": [
    {
     "name": "stdout",
     "output_type": "stream",
     "text": [
      "Jumlah baris sebelum memfilter outlier: 5485\n",
      "Jumlah baris setelah memfilter outlier: 5485\n"
     ]
    }
   ],
   "source": [
    "print(f'Jumlah baris sebelum memfilter outlier: {len(df)}')\n",
    "\n",
    "filtered_entries = np.array([False] * len(df))\n",
    "for col in nums:\n",
    "    Q1 = df[col].quantile(0.25)\n",
    "    Q3 = df[col].quantile(0.75)\n",
    "    IQR = Q3 - Q1\n",
    "    low_limit = Q1 - (IQR * 1.5)\n",
    "    high_limit = Q3 + (IQR * 1.5)\n",
    "\n",
    "    filtered_entries = ((df[col] >= low_limit) & (df[col] <= high_limit)) | filtered_entries\n",
    "    \n",
    "df = df[filtered_entries]\n",
    "\n",
    "\n",
    "print(f'Jumlah baris setelah memfilter outlier: {len(df)}')"
   ]
  },
  {
   "cell_type": "markdown",
   "metadata": {},
   "source": [
    "### Normalization/Standardization"
   ]
  },
  {
   "cell_type": "code",
   "execution_count": 18,
   "metadata": {},
   "outputs": [
    {
     "data": {
      "text/html": [
       "<div>\n",
       "<style scoped>\n",
       "    .dataframe tbody tr th:only-of-type {\n",
       "        vertical-align: middle;\n",
       "    }\n",
       "\n",
       "    .dataframe tbody tr th {\n",
       "        vertical-align: top;\n",
       "    }\n",
       "\n",
       "    .dataframe thead th {\n",
       "        text-align: right;\n",
       "    }\n",
       "</style>\n",
       "<table border=\"1\" class=\"dataframe\">\n",
       "  <thead>\n",
       "    <tr style=\"text-align: right;\">\n",
       "      <th></th>\n",
       "      <th>Year</th>\n",
       "      <th>Kilometers_Driven</th>\n",
       "      <th>Engine</th>\n",
       "      <th>Power</th>\n",
       "      <th>Seats</th>\n",
       "      <th>Price</th>\n",
       "      <th>Mpg</th>\n",
       "    </tr>\n",
       "  </thead>\n",
       "  <tbody>\n",
       "    <tr>\n",
       "      <th>count</th>\n",
       "      <td>5485.000000</td>\n",
       "      <td>5485.000000</td>\n",
       "      <td>5485.000000</td>\n",
       "      <td>5485.000000</td>\n",
       "      <td>5485.000000</td>\n",
       "      <td>5485.000000</td>\n",
       "      <td>5485.000000</td>\n",
       "    </tr>\n",
       "    <tr>\n",
       "      <th>mean</th>\n",
       "      <td>2013.565907</td>\n",
       "      <td>56144.528897</td>\n",
       "      <td>1561.012397</td>\n",
       "      <td>108.266456</td>\n",
       "      <td>5.222242</td>\n",
       "      <td>8.309513</td>\n",
       "      <td>27.831353</td>\n",
       "    </tr>\n",
       "    <tr>\n",
       "      <th>std</th>\n",
       "      <td>2.981998</td>\n",
       "      <td>32358.294840</td>\n",
       "      <td>519.354496</td>\n",
       "      <td>44.281296</td>\n",
       "      <td>0.654347</td>\n",
       "      <td>7.795365</td>\n",
       "      <td>5.992160</td>\n",
       "    </tr>\n",
       "    <tr>\n",
       "      <th>min</th>\n",
       "      <td>2004.000000</td>\n",
       "      <td>171.000000</td>\n",
       "      <td>624.000000</td>\n",
       "      <td>34.200000</td>\n",
       "      <td>4.000000</td>\n",
       "      <td>0.440000</td>\n",
       "      <td>12.257100</td>\n",
       "    </tr>\n",
       "    <tr>\n",
       "      <th>25%</th>\n",
       "      <td>2012.000000</td>\n",
       "      <td>33900.000000</td>\n",
       "      <td>1197.000000</td>\n",
       "      <td>74.000000</td>\n",
       "      <td>5.000000</td>\n",
       "      <td>3.500000</td>\n",
       "      <td>23.916293</td>\n",
       "    </tr>\n",
       "    <tr>\n",
       "      <th>50%</th>\n",
       "      <td>2014.000000</td>\n",
       "      <td>52373.000000</td>\n",
       "      <td>1461.000000</td>\n",
       "      <td>90.000000</td>\n",
       "      <td>5.000000</td>\n",
       "      <td>5.530000</td>\n",
       "      <td>27.802691</td>\n",
       "    </tr>\n",
       "    <tr>\n",
       "      <th>75%</th>\n",
       "      <td>2016.000000</td>\n",
       "      <td>72000.000000</td>\n",
       "      <td>1968.000000</td>\n",
       "      <td>134.000000</td>\n",
       "      <td>5.000000</td>\n",
       "      <td>9.290000</td>\n",
       "      <td>31.988042</td>\n",
       "    </tr>\n",
       "    <tr>\n",
       "      <th>max</th>\n",
       "      <td>2019.000000</td>\n",
       "      <td>300000.000000</td>\n",
       "      <td>3200.000000</td>\n",
       "      <td>270.900000</td>\n",
       "      <td>7.000000</td>\n",
       "      <td>43.300000</td>\n",
       "      <td>42.451420</td>\n",
       "    </tr>\n",
       "  </tbody>\n",
       "</table>\n",
       "</div>"
      ],
      "text/plain": [
       "              Year  Kilometers_Driven       Engine        Power        Seats  \\\n",
       "count  5485.000000        5485.000000  5485.000000  5485.000000  5485.000000   \n",
       "mean   2013.565907       56144.528897  1561.012397   108.266456     5.222242   \n",
       "std       2.981998       32358.294840   519.354496    44.281296     0.654347   \n",
       "min    2004.000000         171.000000   624.000000    34.200000     4.000000   \n",
       "25%    2012.000000       33900.000000  1197.000000    74.000000     5.000000   \n",
       "50%    2014.000000       52373.000000  1461.000000    90.000000     5.000000   \n",
       "75%    2016.000000       72000.000000  1968.000000   134.000000     5.000000   \n",
       "max    2019.000000      300000.000000  3200.000000   270.900000     7.000000   \n",
       "\n",
       "             Price          Mpg  \n",
       "count  5485.000000  5485.000000  \n",
       "mean      8.309513    27.831353  \n",
       "std       7.795365     5.992160  \n",
       "min       0.440000    12.257100  \n",
       "25%       3.500000    23.916293  \n",
       "50%       5.530000    27.802691  \n",
       "75%       9.290000    31.988042  \n",
       "max      43.300000    42.451420  "
      ]
     },
     "execution_count": 18,
     "metadata": {},
     "output_type": "execute_result"
    }
   ],
   "source": [
    "df.describe()"
   ]
  },
  {
   "cell_type": "markdown",
   "metadata": {},
   "source": [
    "Setelah semua data numerik disesuaikan tipenya menjadi numerik, cek kembali distribusi tiap feature numerik."
   ]
  },
  {
   "cell_type": "code",
   "execution_count": 19,
   "metadata": {},
   "outputs": [
    {
     "data": {
      "text/plain": [
       "Text(0.5, 1.0, 'Count of the cars as per the year of sales')"
      ]
     },
     "execution_count": 19,
     "metadata": {},
     "output_type": "execute_result"
    },
    {
     "data": {
      "image/png": "[encoded data removed]",
      "text/plain": [
       "<Figure size 720x360 with 1 Axes>"
      ]
     },
     "metadata": {
      "needs_background": "light"
     },
     "output_type": "display_data"
    }
   ],
   "source": [
    "df.groupby('Year').count().plot(figsize=(10,5),marker='o',color='r')\n",
    "plt.title(\"Count of the cars as per the year of sales\", fontsize=20,ha='center')"
   ]
  },
  {
   "cell_type": "code",
   "execution_count": 20,
   "metadata": {},
   "outputs": [
    {
     "name": "stderr",
     "output_type": "stream",
     "text": [
      "D:\\Work\\AnacondaPhyton\\lib\\site-packages\\seaborn\\distributions.py:369: UserWarning: Default bandwidth for data is 0; skipping density estimation.\n",
      "  warnings.warn(msg, UserWarning)\n"
     ]
    },
    {
     "data": {
      "image/png": "[encoded data removed]",
      "text/plain": [
       "<Figure size 864x576 with 7 Axes>"
      ]
     },
     "metadata": {
      "needs_background": "light"
     },
     "output_type": "display_data"
    }
   ],
   "source": [
    "features = nums\n",
    "plt.figure(figsize=(12,8))\n",
    "for i in range(0,len(features)):\n",
    "    plt.subplot(3,4,i+1)\n",
    "    sns.distplot(df[features[i]],color='green')\n",
    "    plt.tight_layout()"
   ]
  },
  {
   "cell_type": "code",
   "execution_count": 21,
   "metadata": {},
   "outputs": [
    {
     "data": {
      "text/plain": [
       "Text(0.5, 1.0, 'Kilometers driven over the course of years')"
      ]
     },
     "execution_count": 21,
     "metadata": {},
     "output_type": "execute_result"
    },
    {
     "data": {
      "image/png": "[encoded data removed]",
      "text/plain": [
       "<Figure size 720x360 with 1 Axes>"
      ]
     },
     "metadata": {
      "needs_background": "light"
     },
     "output_type": "display_data"
    },
    {
     "data": {
      "image/png": "[encoded data removed]",
      "text/plain": [
       "<Figure size 720x360 with 1 Axes>"
      ]
     },
     "metadata": {
      "needs_background": "light"
     },
     "output_type": "display_data"
    }
   ],
   "source": [
    "df.groupby('Year')[['Price']].mean().plot(figsize=(10,5),marker='o',color='r')\n",
    "plt.title(\"Prices of the cars as per the year of sales\", fontsize=20,ha='center')\n",
    "df.groupby('Year')[['Kilometers_Driven']].mean().plot(figsize=(10,5),marker='o',color='b')\n",
    "plt.title(\"Kilometers driven over the course of years\", fontsize=20,ha='center')"
   ]
  },
  {
   "cell_type": "markdown",
   "metadata": {},
   "source": [
    "Normalisasi/Standardisasi dilakukan untuk mengimprove performa model. Ketika selesai, hapus semua feature numerik yang sudah tidak terpakai."
   ]
  },
  {
   "cell_type": "code",
   "execution_count": 22,
   "metadata": {
    "ExecuteTime": {
     "end_time": "2020-08-26T01:47:08.977795Z",
     "start_time": "2020-08-26T01:47:08.967783Z"
    }
   },
   "outputs": [
    {
     "data": {
      "text/html": [
       "<div>\n",
       "<style scoped>\n",
       "    .dataframe tbody tr th:only-of-type {\n",
       "        vertical-align: middle;\n",
       "    }\n",
       "\n",
       "    .dataframe tbody tr th {\n",
       "        vertical-align: top;\n",
       "    }\n",
       "\n",
       "    .dataframe thead th {\n",
       "        text-align: right;\n",
       "    }\n",
       "</style>\n",
       "<table border=\"1\" class=\"dataframe\">\n",
       "  <thead>\n",
       "    <tr style=\"text-align: right;\">\n",
       "      <th></th>\n",
       "      <th>Location</th>\n",
       "      <th>Fuel_Type</th>\n",
       "      <th>Transmission</th>\n",
       "      <th>Owner_Type</th>\n",
       "      <th>year_norm</th>\n",
       "      <th>km_norm</th>\n",
       "      <th>engine_norm</th>\n",
       "      <th>power_norm</th>\n",
       "      <th>seat_norm</th>\n",
       "      <th>price_norm</th>\n",
       "      <th>mileage_norm</th>\n",
       "    </tr>\n",
       "  </thead>\n",
       "  <tbody>\n",
       "    <tr>\n",
       "      <th>3026</th>\n",
       "      <td>Bangalore</td>\n",
       "      <td>Petrol</td>\n",
       "      <td>Manual</td>\n",
       "      <td>Second</td>\n",
       "      <td>0.733333</td>\n",
       "      <td>0.129504</td>\n",
       "      <td>0.222438</td>\n",
       "      <td>0.201225</td>\n",
       "      <td>0.333333</td>\n",
       "      <td>0.136724</td>\n",
       "      <td>0.514851</td>\n",
       "    </tr>\n",
       "  </tbody>\n",
       "</table>\n",
       "</div>"
      ],
      "text/plain": [
       "       Location Fuel_Type Transmission Owner_Type  year_norm   km_norm  \\\n",
       "3026  Bangalore    Petrol       Manual     Second   0.733333  0.129504   \n",
       "\n",
       "      engine_norm  power_norm  seat_norm  price_norm  mileage_norm  \n",
       "3026     0.222438    0.201225   0.333333    0.136724      0.514851  "
      ]
     },
     "execution_count": 22,
     "metadata": {},
     "output_type": "execute_result"
    }
   ],
   "source": [
    "from sklearn.preprocessing import MinMaxScaler, StandardScaler\n",
    "df['year_norm'] = MinMaxScaler().fit_transform(df['Year'].values.reshape(len(df), 1))\n",
    "df['km_norm'] = MinMaxScaler().fit_transform(df['Kilometers_Driven'].values.reshape(len(df), 1))\n",
    "df['engine_norm'] = MinMaxScaler().fit_transform(df['Engine'].values.reshape(len(df), 1))\n",
    "df['power_norm'] = MinMaxScaler().fit_transform(df['Power'].values.reshape(len(df), 1))\n",
    "df['seat_norm'] = MinMaxScaler().fit_transform(df['Seats'].values.reshape(len(df), 1))\n",
    "df['price_norm'] = MinMaxScaler().fit_transform(df['Price'].values.reshape(len(df), 1))\n",
    "df['mileage_norm'] = MinMaxScaler().fit_transform(df['Mpg'].values.reshape(len(df), 1))\n",
    "\n",
    "df = df.drop(['Year', 'Kilometers_Driven', 'Engine', 'Power', 'Seats', 'Price','Mpg'],axis=1)\n",
    "df.sample()"
   ]
  },
  {
   "cell_type": "code",
   "execution_count": 23,
   "metadata": {
    "ExecuteTime": {
     "end_time": "2020-08-30T02:13:39.697874Z",
     "start_time": "2020-08-30T02:13:39.694880Z"
    }
   },
   "outputs": [
    {
     "data": {
      "text/html": [
       "<div>\n",
       "<style scoped>\n",
       "    .dataframe tbody tr th:only-of-type {\n",
       "        vertical-align: middle;\n",
       "    }\n",
       "\n",
       "    .dataframe tbody tr th {\n",
       "        vertical-align: top;\n",
       "    }\n",
       "\n",
       "    .dataframe thead th {\n",
       "        text-align: right;\n",
       "    }\n",
       "</style>\n",
       "<table border=\"1\" class=\"dataframe\">\n",
       "  <thead>\n",
       "    <tr style=\"text-align: right;\">\n",
       "      <th></th>\n",
       "      <th>year_norm</th>\n",
       "      <th>km_norm</th>\n",
       "      <th>engine_norm</th>\n",
       "      <th>power_norm</th>\n",
       "      <th>seat_norm</th>\n",
       "      <th>price_norm</th>\n",
       "      <th>mileage_norm</th>\n",
       "    </tr>\n",
       "  </thead>\n",
       "  <tbody>\n",
       "    <tr>\n",
       "      <th>count</th>\n",
       "      <td>5485.000000</td>\n",
       "      <td>5485.000000</td>\n",
       "      <td>5485.000000</td>\n",
       "      <td>5485.000000</td>\n",
       "      <td>5485.000000</td>\n",
       "      <td>5485.000000</td>\n",
       "      <td>5485.000000</td>\n",
       "    </tr>\n",
       "    <tr>\n",
       "      <th>mean</th>\n",
       "      <td>0.637727</td>\n",
       "      <td>0.186685</td>\n",
       "      <td>0.363747</td>\n",
       "      <td>0.312913</td>\n",
       "      <td>0.407414</td>\n",
       "      <td>0.183610</td>\n",
       "      <td>0.515801</td>\n",
       "    </tr>\n",
       "    <tr>\n",
       "      <th>std</th>\n",
       "      <td>0.198800</td>\n",
       "      <td>0.107922</td>\n",
       "      <td>0.201613</td>\n",
       "      <td>0.187078</td>\n",
       "      <td>0.218116</td>\n",
       "      <td>0.181880</td>\n",
       "      <td>0.198453</td>\n",
       "    </tr>\n",
       "    <tr>\n",
       "      <th>min</th>\n",
       "      <td>0.000000</td>\n",
       "      <td>0.000000</td>\n",
       "      <td>0.000000</td>\n",
       "      <td>0.000000</td>\n",
       "      <td>0.000000</td>\n",
       "      <td>0.000000</td>\n",
       "      <td>0.000000</td>\n",
       "    </tr>\n",
       "    <tr>\n",
       "      <th>25%</th>\n",
       "      <td>0.533333</td>\n",
       "      <td>0.112494</td>\n",
       "      <td>0.222438</td>\n",
       "      <td>0.168145</td>\n",
       "      <td>0.333333</td>\n",
       "      <td>0.071395</td>\n",
       "      <td>0.386139</td>\n",
       "    </tr>\n",
       "    <tr>\n",
       "      <th>50%</th>\n",
       "      <td>0.666667</td>\n",
       "      <td>0.174106</td>\n",
       "      <td>0.324922</td>\n",
       "      <td>0.235741</td>\n",
       "      <td>0.333333</td>\n",
       "      <td>0.118759</td>\n",
       "      <td>0.514851</td>\n",
       "    </tr>\n",
       "    <tr>\n",
       "      <th>75%</th>\n",
       "      <td>0.800000</td>\n",
       "      <td>0.239567</td>\n",
       "      <td>0.521739</td>\n",
       "      <td>0.421631</td>\n",
       "      <td>0.333333</td>\n",
       "      <td>0.206486</td>\n",
       "      <td>0.653465</td>\n",
       "    </tr>\n",
       "    <tr>\n",
       "      <th>max</th>\n",
       "      <td>1.000000</td>\n",
       "      <td>1.000000</td>\n",
       "      <td>1.000000</td>\n",
       "      <td>1.000000</td>\n",
       "      <td>1.000000</td>\n",
       "      <td>1.000000</td>\n",
       "      <td>1.000000</td>\n",
       "    </tr>\n",
       "  </tbody>\n",
       "</table>\n",
       "</div>"
      ],
      "text/plain": [
       "         year_norm      km_norm  engine_norm   power_norm    seat_norm  \\\n",
       "count  5485.000000  5485.000000  5485.000000  5485.000000  5485.000000   \n",
       "mean      0.637727     0.186685     0.363747     0.312913     0.407414   \n",
       "std       0.198800     0.107922     0.201613     0.187078     0.218116   \n",
       "min       0.000000     0.000000     0.000000     0.000000     0.000000   \n",
       "25%       0.533333     0.112494     0.222438     0.168145     0.333333   \n",
       "50%       0.666667     0.174106     0.324922     0.235741     0.333333   \n",
       "75%       0.800000     0.239567     0.521739     0.421631     0.333333   \n",
       "max       1.000000     1.000000     1.000000     1.000000     1.000000   \n",
       "\n",
       "        price_norm  mileage_norm  \n",
       "count  5485.000000   5485.000000  \n",
       "mean      0.183610      0.515801  \n",
       "std       0.181880      0.198453  \n",
       "min       0.000000      0.000000  \n",
       "25%       0.071395      0.386139  \n",
       "50%       0.118759      0.514851  \n",
       "75%       0.206486      0.653465  \n",
       "max       1.000000      1.000000  "
      ]
     },
     "execution_count": 23,
     "metadata": {},
     "output_type": "execute_result"
    }
   ],
   "source": [
    "df.describe() #cek apakah normalisasi/standardisasi sudah benar"
   ]
  },
  {
   "cell_type": "code",
   "execution_count": 24,
   "metadata": {},
   "outputs": [
    {
     "name": "stdout",
     "output_type": "stream",
     "text": [
      "<class 'pandas.core.frame.DataFrame'>\n",
      "Int64Index: 5485 entries, 0 to 6018\n",
      "Data columns (total 11 columns):\n",
      " #   Column        Non-Null Count  Dtype  \n",
      "---  ------        --------------  -----  \n",
      " 0   Location      5485 non-null   object \n",
      " 1   Fuel_Type     5485 non-null   object \n",
      " 2   Transmission  5485 non-null   object \n",
      " 3   Owner_Type    5485 non-null   object \n",
      " 4   year_norm     5485 non-null   float64\n",
      " 5   km_norm       5485 non-null   float64\n",
      " 6   engine_norm   5485 non-null   float64\n",
      " 7   power_norm    5485 non-null   float64\n",
      " 8   seat_norm     5485 non-null   float64\n",
      " 9   price_norm    5485 non-null   float64\n",
      " 10  mileage_norm  5485 non-null   float64\n",
      "dtypes: float64(7), object(4)\n",
      "memory usage: 514.2+ KB\n"
     ]
    }
   ],
   "source": [
    "df.info()"
   ]
  },
  {
   "cell_type": "markdown",
   "metadata": {},
   "source": [
    "## Feature Encoding"
   ]
  },
  {
   "cell_type": "markdown",
   "metadata": {},
   "source": [
    "Feature Encoding dilakukan untuk feature kategori: `Location`,`Fuel_Type`,`Transmission`,`Owner_Type`"
   ]
  },
  {
   "cell_type": "code",
   "execution_count": 25,
   "metadata": {},
   "outputs": [
    {
     "data": {
      "text/html": [
       "<div>\n",
       "<style scoped>\n",
       "    .dataframe tbody tr th:only-of-type {\n",
       "        vertical-align: middle;\n",
       "    }\n",
       "\n",
       "    .dataframe tbody tr th {\n",
       "        vertical-align: top;\n",
       "    }\n",
       "\n",
       "    .dataframe thead th {\n",
       "        text-align: right;\n",
       "    }\n",
       "</style>\n",
       "<table border=\"1\" class=\"dataframe\">\n",
       "  <thead>\n",
       "    <tr style=\"text-align: right;\">\n",
       "      <th></th>\n",
       "      <th>Location</th>\n",
       "      <th>Fuel_Type</th>\n",
       "      <th>Transmission</th>\n",
       "      <th>Owner_Type</th>\n",
       "    </tr>\n",
       "  </thead>\n",
       "  <tbody>\n",
       "    <tr>\n",
       "      <th>count</th>\n",
       "      <td>5485</td>\n",
       "      <td>5485</td>\n",
       "      <td>5485</td>\n",
       "      <td>5485</td>\n",
       "    </tr>\n",
       "    <tr>\n",
       "      <th>unique</th>\n",
       "      <td>11</td>\n",
       "      <td>4</td>\n",
       "      <td>2</td>\n",
       "      <td>4</td>\n",
       "    </tr>\n",
       "    <tr>\n",
       "      <th>top</th>\n",
       "      <td>Mumbai</td>\n",
       "      <td>Diesel</td>\n",
       "      <td>Manual</td>\n",
       "      <td>First</td>\n",
       "    </tr>\n",
       "    <tr>\n",
       "      <th>freq</th>\n",
       "      <td>725</td>\n",
       "      <td>2864</td>\n",
       "      <td>3991</td>\n",
       "      <td>4541</td>\n",
       "    </tr>\n",
       "  </tbody>\n",
       "</table>\n",
       "</div>"
      ],
      "text/plain": [
       "       Location Fuel_Type Transmission Owner_Type\n",
       "count      5485      5485         5485       5485\n",
       "unique       11         4            2          4\n",
       "top      Mumbai    Diesel       Manual      First\n",
       "freq        725      2864         3991       4541"
      ]
     },
     "execution_count": 25,
     "metadata": {},
     "output_type": "execute_result"
    }
   ],
   "source": [
    "cats = ['Location','Fuel_Type','Transmission','Owner_Type']\n",
    "df[cats].describe()"
   ]
  },
  {
   "cell_type": "markdown",
   "metadata": {},
   "source": [
    "Cek dan hapus duplikasi data setelah dilakukan data cleansing."
   ]
  },
  {
   "cell_type": "code",
   "execution_count": 26,
   "metadata": {},
   "outputs": [
    {
     "name": "stdout",
     "output_type": "stream",
     "text": [
      "2\n",
      "0\n"
     ]
    }
   ],
   "source": [
    "print(df.duplicated().sum())\n",
    "df.drop_duplicates(inplace=True)\n",
    "print(df.duplicated().sum())"
   ]
  },
  {
   "cell_type": "code",
   "execution_count": 27,
   "metadata": {},
   "outputs": [
    {
     "data": {
      "image/png": "[encoded data removed]",
      "text/plain": [
       "<Figure size 1440x288 with 4 Axes>"
      ]
     },
     "metadata": {
      "needs_background": "light"
     },
     "output_type": "display_data"
    }
   ],
   "source": [
    "features = cats\n",
    "plt.figure(figsize=(20,4)) #x=12in y=6in\n",
    "for i in range(0, len(features)):\n",
    "    plt.subplot(1,len(features),i+1)\n",
    "    sns.countplot(df[features[i]], color='green')\n",
    "    plt.xticks(rotation=45)\n",
    "    plt.rc('xtick', labelsize=10)\n",
    "    plt.tight_layout()"
   ]
  },
  {
   "cell_type": "markdown",
   "metadata": {},
   "source": [
    "Teknik Feature Encoding yang dipakai adalah <b>One-hot Encoding</b> karena jumlah data unique di masing-masing feature tidak menyaingi jumlah barisnya. Kemudian hapus feature category yang sudah tidak dipakai untuk model."
   ]
  },
  {
   "cell_type": "code",
   "execution_count": 28,
   "metadata": {
    "ExecuteTime": {
     "end_time": "2020-08-26T01:49:21.530506Z",
     "start_time": "2020-08-26T01:49:21.508507Z"
    },
    "scrolled": true
   },
   "outputs": [
    {
     "data": {
      "text/plain": [
       "Index(['year_norm', 'km_norm', 'engine_norm', 'power_norm', 'seat_norm',\n",
       "       'price_norm', 'mileage_norm', 'Location_Ahmedabad',\n",
       "       'Location_Bangalore', 'Location_Chennai', 'Location_Coimbatore',\n",
       "       'Location_Delhi', 'Location_Hyderabad', 'Location_Jaipur',\n",
       "       'Location_Kochi', 'Location_Kolkata', 'Location_Mumbai',\n",
       "       'Location_Pune', 'Fuel_Type_CNG', 'Fuel_Type_Diesel', 'Fuel_Type_LPG',\n",
       "       'Fuel_Type_Petrol', 'Transmission_Automatic', 'Transmission_Manual',\n",
       "       'Owner_Type_First', 'Owner_Type_Fourth & Above', 'Owner_Type_Second',\n",
       "       'Owner_Type_Third'],\n",
       "      dtype='object')"
      ]
     },
     "execution_count": 28,
     "metadata": {},
     "output_type": "execute_result"
    }
   ],
   "source": [
    "for cat in cats:\n",
    "    onehots = pd.get_dummies(df[cat], prefix=cat)\n",
    "    df = df.join(onehots)\n",
    "\n",
    "df = df.drop(cats,axis=1)\n",
    "df.columns"
   ]
  },
  {
   "cell_type": "code",
   "execution_count": 29,
   "metadata": {},
   "outputs": [
    {
     "data": {
      "text/html": [
       "<div>\n",
       "<style scoped>\n",
       "    .dataframe tbody tr th:only-of-type {\n",
       "        vertical-align: middle;\n",
       "    }\n",
       "\n",
       "    .dataframe tbody tr th {\n",
       "        vertical-align: top;\n",
       "    }\n",
       "\n",
       "    .dataframe thead th {\n",
       "        text-align: right;\n",
       "    }\n",
       "</style>\n",
       "<table border=\"1\" class=\"dataframe\">\n",
       "  <thead>\n",
       "    <tr style=\"text-align: right;\">\n",
       "      <th></th>\n",
       "      <th>year_norm</th>\n",
       "      <th>km_norm</th>\n",
       "      <th>engine_norm</th>\n",
       "      <th>power_norm</th>\n",
       "      <th>seat_norm</th>\n",
       "      <th>price_norm</th>\n",
       "      <th>mileage_norm</th>\n",
       "      <th>Location_Ahmedabad</th>\n",
       "      <th>Location_Bangalore</th>\n",
       "      <th>Location_Chennai</th>\n",
       "      <th>...</th>\n",
       "      <th>Fuel_Type_CNG</th>\n",
       "      <th>Fuel_Type_Diesel</th>\n",
       "      <th>Fuel_Type_LPG</th>\n",
       "      <th>Fuel_Type_Petrol</th>\n",
       "      <th>Transmission_Automatic</th>\n",
       "      <th>Transmission_Manual</th>\n",
       "      <th>Owner_Type_First</th>\n",
       "      <th>Owner_Type_Fourth &amp; Above</th>\n",
       "      <th>Owner_Type_Second</th>\n",
       "      <th>Owner_Type_Third</th>\n",
       "    </tr>\n",
       "  </thead>\n",
       "  <tbody>\n",
       "    <tr>\n",
       "      <th>5718</th>\n",
       "      <td>0.533333</td>\n",
       "      <td>0.244569</td>\n",
       "      <td>0.300854</td>\n",
       "      <td>0.142797</td>\n",
       "      <td>0.333333</td>\n",
       "      <td>0.050397</td>\n",
       "      <td>0.584158</td>\n",
       "      <td>0</td>\n",
       "      <td>0</td>\n",
       "      <td>0</td>\n",
       "      <td>...</td>\n",
       "      <td>0</td>\n",
       "      <td>1</td>\n",
       "      <td>0</td>\n",
       "      <td>0</td>\n",
       "      <td>0</td>\n",
       "      <td>1</td>\n",
       "      <td>0</td>\n",
       "      <td>0</td>\n",
       "      <td>1</td>\n",
       "      <td>0</td>\n",
       "    </tr>\n",
       "  </tbody>\n",
       "</table>\n",
       "<p>1 rows × 28 columns</p>\n",
       "</div>"
      ],
      "text/plain": [
       "      year_norm   km_norm  engine_norm  power_norm  seat_norm  price_norm  \\\n",
       "5718   0.533333  0.244569     0.300854    0.142797   0.333333    0.050397   \n",
       "\n",
       "      mileage_norm  Location_Ahmedabad  Location_Bangalore  Location_Chennai  \\\n",
       "5718      0.584158                   0                   0                 0   \n",
       "\n",
       "      ...  Fuel_Type_CNG  Fuel_Type_Diesel  Fuel_Type_LPG  Fuel_Type_Petrol  \\\n",
       "5718  ...              0                 1              0                 0   \n",
       "\n",
       "      Transmission_Automatic  Transmission_Manual  Owner_Type_First  \\\n",
       "5718                       0                    1                 0   \n",
       "\n",
       "      Owner_Type_Fourth & Above  Owner_Type_Second  Owner_Type_Third  \n",
       "5718                          0                  1                 0  \n",
       "\n",
       "[1 rows x 28 columns]"
      ]
     },
     "execution_count": 29,
     "metadata": {},
     "output_type": "execute_result"
    }
   ],
   "source": [
    "df.sample()"
   ]
  },
  {
   "cell_type": "markdown",
   "metadata": {},
   "source": [
    "### Mengatur Urutan Kolom"
   ]
  },
  {
   "cell_type": "markdown",
   "metadata": {},
   "source": [
    "Agar lebih mudah diolah, kolom `Price` dipindah ke kolom paling kanan."
   ]
  },
  {
   "cell_type": "code",
   "execution_count": 48,
   "metadata": {},
   "outputs": [],
   "source": [
    "cols = list(df.columns.values)"
   ]
  },
  {
   "cell_type": "code",
   "execution_count": 49,
   "metadata": {},
   "outputs": [
    {
     "data": {
      "text/plain": [
       "['year_norm',\n",
       " 'km_norm',\n",
       " 'engine_norm',\n",
       " 'power_norm',\n",
       " 'seat_norm',\n",
       " 'mileage_norm',\n",
       " 'Location_Ahmedabad',\n",
       " 'Location_Bangalore',\n",
       " 'Location_Chennai',\n",
       " 'Location_Coimbatore',\n",
       " 'Location_Delhi',\n",
       " 'Location_Hyderabad',\n",
       " 'Location_Jaipur',\n",
       " 'Location_Kochi',\n",
       " 'Location_Kolkata',\n",
       " 'Location_Mumbai',\n",
       " 'Location_Pune',\n",
       " 'Fuel_Type_CNG',\n",
       " 'Fuel_Type_Diesel',\n",
       " 'Fuel_Type_LPG',\n",
       " 'Fuel_Type_Petrol',\n",
       " 'Transmission_Automatic',\n",
       " 'Transmission_Manual',\n",
       " 'Owner_Type_First',\n",
       " 'Owner_Type_Fourth & Above',\n",
       " 'Owner_Type_Second',\n",
       " 'Owner_Type_Third',\n",
       " 'price_norm']"
      ]
     },
     "execution_count": 49,
     "metadata": {},
     "output_type": "execute_result"
    }
   ],
   "source": [
    "cols"
   ]
  },
  {
   "cell_type": "code",
   "execution_count": 50,
   "metadata": {},
   "outputs": [],
   "source": [
    "df = df[['year_norm',\n",
    " 'km_norm',\n",
    " 'engine_norm',\n",
    " 'power_norm',\n",
    " 'seat_norm',\n",
    " 'mileage_norm',\n",
    " 'Location_Ahmedabad',\n",
    " 'Location_Bangalore',\n",
    " 'Location_Chennai',\n",
    " 'Location_Coimbatore',\n",
    " 'Location_Delhi',\n",
    " 'Location_Hyderabad',\n",
    " 'Location_Jaipur',\n",
    " 'Location_Kochi',\n",
    " 'Location_Kolkata',\n",
    " 'Location_Mumbai',\n",
    " 'Location_Pune',\n",
    " 'Fuel_Type_CNG',\n",
    " 'Fuel_Type_Diesel',\n",
    " 'Fuel_Type_LPG',\n",
    " 'Fuel_Type_Petrol',\n",
    " 'Transmission_Automatic',\n",
    " 'Transmission_Manual',\n",
    " 'Owner_Type_First',\n",
    " 'Owner_Type_Fourth & Above',\n",
    " 'Owner_Type_Second',\n",
    " 'Owner_Type_Third','price_norm']]"
   ]
  },
  {
   "cell_type": "code",
   "execution_count": 51,
   "metadata": {},
   "outputs": [
    {
     "data": {
      "text/html": [
       "<div>\n",
       "<style scoped>\n",
       "    .dataframe tbody tr th:only-of-type {\n",
       "        vertical-align: middle;\n",
       "    }\n",
       "\n",
       "    .dataframe tbody tr th {\n",
       "        vertical-align: top;\n",
       "    }\n",
       "\n",
       "    .dataframe thead th {\n",
       "        text-align: right;\n",
       "    }\n",
       "</style>\n",
       "<table border=\"1\" class=\"dataframe\">\n",
       "  <thead>\n",
       "    <tr style=\"text-align: right;\">\n",
       "      <th></th>\n",
       "      <th>year_norm</th>\n",
       "      <th>km_norm</th>\n",
       "      <th>engine_norm</th>\n",
       "      <th>power_norm</th>\n",
       "      <th>seat_norm</th>\n",
       "      <th>mileage_norm</th>\n",
       "      <th>Location_Ahmedabad</th>\n",
       "      <th>Location_Bangalore</th>\n",
       "      <th>Location_Chennai</th>\n",
       "      <th>Location_Coimbatore</th>\n",
       "      <th>...</th>\n",
       "      <th>Fuel_Type_Diesel</th>\n",
       "      <th>Fuel_Type_LPG</th>\n",
       "      <th>Fuel_Type_Petrol</th>\n",
       "      <th>Transmission_Automatic</th>\n",
       "      <th>Transmission_Manual</th>\n",
       "      <th>Owner_Type_First</th>\n",
       "      <th>Owner_Type_Fourth &amp; Above</th>\n",
       "      <th>Owner_Type_Second</th>\n",
       "      <th>Owner_Type_Third</th>\n",
       "      <th>price_norm</th>\n",
       "    </tr>\n",
       "  </thead>\n",
       "  <tbody>\n",
       "    <tr>\n",
       "      <th>5675</th>\n",
       "      <td>0.600000</td>\n",
       "      <td>0.087146</td>\n",
       "      <td>0.121118</td>\n",
       "      <td>0.098859</td>\n",
       "      <td>0.333333</td>\n",
       "      <td>0.853465</td>\n",
       "      <td>0</td>\n",
       "      <td>0</td>\n",
       "      <td>0</td>\n",
       "      <td>0</td>\n",
       "      <td>...</td>\n",
       "      <td>1</td>\n",
       "      <td>0</td>\n",
       "      <td>0</td>\n",
       "      <td>0</td>\n",
       "      <td>1</td>\n",
       "      <td>1</td>\n",
       "      <td>0</td>\n",
       "      <td>0</td>\n",
       "      <td>0</td>\n",
       "      <td>0.055063</td>\n",
       "    </tr>\n",
       "    <tr>\n",
       "      <th>1522</th>\n",
       "      <td>0.800000</td>\n",
       "      <td>0.048861</td>\n",
       "      <td>0.222826</td>\n",
       "      <td>0.222222</td>\n",
       "      <td>0.333333</td>\n",
       "      <td>0.554455</td>\n",
       "      <td>0</td>\n",
       "      <td>0</td>\n",
       "      <td>0</td>\n",
       "      <td>1</td>\n",
       "      <td>...</td>\n",
       "      <td>0</td>\n",
       "      <td>0</td>\n",
       "      <td>1</td>\n",
       "      <td>0</td>\n",
       "      <td>1</td>\n",
       "      <td>1</td>\n",
       "      <td>0</td>\n",
       "      <td>0</td>\n",
       "      <td>0</td>\n",
       "      <td>0.115026</td>\n",
       "    </tr>\n",
       "    <tr>\n",
       "      <th>5646</th>\n",
       "      <td>0.733333</td>\n",
       "      <td>0.172862</td>\n",
       "      <td>0.242236</td>\n",
       "      <td>0.229404</td>\n",
       "      <td>0.333333</td>\n",
       "      <td>0.984653</td>\n",
       "      <td>1</td>\n",
       "      <td>0</td>\n",
       "      <td>0</td>\n",
       "      <td>0</td>\n",
       "      <td>...</td>\n",
       "      <td>1</td>\n",
       "      <td>0</td>\n",
       "      <td>0</td>\n",
       "      <td>0</td>\n",
       "      <td>1</td>\n",
       "      <td>1</td>\n",
       "      <td>0</td>\n",
       "      <td>0</td>\n",
       "      <td>0</td>\n",
       "      <td>0.150723</td>\n",
       "    </tr>\n",
       "    <tr>\n",
       "      <th>777</th>\n",
       "      <td>0.533333</td>\n",
       "      <td>0.222890</td>\n",
       "      <td>0.371894</td>\n",
       "      <td>0.389185</td>\n",
       "      <td>0.333333</td>\n",
       "      <td>0.699010</td>\n",
       "      <td>0</td>\n",
       "      <td>1</td>\n",
       "      <td>0</td>\n",
       "      <td>0</td>\n",
       "      <td>...</td>\n",
       "      <td>1</td>\n",
       "      <td>0</td>\n",
       "      <td>0</td>\n",
       "      <td>0</td>\n",
       "      <td>1</td>\n",
       "      <td>1</td>\n",
       "      <td>0</td>\n",
       "      <td>0</td>\n",
       "      <td>0</td>\n",
       "      <td>0.135558</td>\n",
       "    </tr>\n",
       "    <tr>\n",
       "      <th>5997</th>\n",
       "      <td>0.400000</td>\n",
       "      <td>0.232896</td>\n",
       "      <td>0.145186</td>\n",
       "      <td>0.101394</td>\n",
       "      <td>0.333333</td>\n",
       "      <td>0.643289</td>\n",
       "      <td>0</td>\n",
       "      <td>0</td>\n",
       "      <td>0</td>\n",
       "      <td>0</td>\n",
       "      <td>...</td>\n",
       "      <td>0</td>\n",
       "      <td>1</td>\n",
       "      <td>0</td>\n",
       "      <td>0</td>\n",
       "      <td>1</td>\n",
       "      <td>1</td>\n",
       "      <td>0</td>\n",
       "      <td>0</td>\n",
       "      <td>0</td>\n",
       "      <td>0.042697</td>\n",
       "    </tr>\n",
       "  </tbody>\n",
       "</table>\n",
       "<p>5 rows × 28 columns</p>\n",
       "</div>"
      ],
      "text/plain": [
       "      year_norm   km_norm  engine_norm  power_norm  seat_norm  mileage_norm  \\\n",
       "5675   0.600000  0.087146     0.121118    0.098859   0.333333      0.853465   \n",
       "1522   0.800000  0.048861     0.222826    0.222222   0.333333      0.554455   \n",
       "5646   0.733333  0.172862     0.242236    0.229404   0.333333      0.984653   \n",
       "777    0.533333  0.222890     0.371894    0.389185   0.333333      0.699010   \n",
       "5997   0.400000  0.232896     0.145186    0.101394   0.333333      0.643289   \n",
       "\n",
       "      Location_Ahmedabad  Location_Bangalore  Location_Chennai  \\\n",
       "5675                   0                   0                 0   \n",
       "1522                   0                   0                 0   \n",
       "5646                   1                   0                 0   \n",
       "777                    0                   1                 0   \n",
       "5997                   0                   0                 0   \n",
       "\n",
       "      Location_Coimbatore  ...  Fuel_Type_Diesel  Fuel_Type_LPG  \\\n",
       "5675                    0  ...                 1              0   \n",
       "1522                    1  ...                 0              0   \n",
       "5646                    0  ...                 1              0   \n",
       "777                     0  ...                 1              0   \n",
       "5997                    0  ...                 0              1   \n",
       "\n",
       "      Fuel_Type_Petrol  Transmission_Automatic  Transmission_Manual  \\\n",
       "5675                 0                       0                    1   \n",
       "1522                 1                       0                    1   \n",
       "5646                 0                       0                    1   \n",
       "777                  0                       0                    1   \n",
       "5997                 0                       0                    1   \n",
       "\n",
       "      Owner_Type_First  Owner_Type_Fourth & Above  Owner_Type_Second  \\\n",
       "5675                 1                          0                  0   \n",
       "1522                 1                          0                  0   \n",
       "5646                 1                          0                  0   \n",
       "777                  1                          0                  0   \n",
       "5997                 1                          0                  0   \n",
       "\n",
       "      Owner_Type_Third  price_norm  \n",
       "5675                 0    0.055063  \n",
       "1522                 0    0.115026  \n",
       "5646                 0    0.150723  \n",
       "777                  0    0.135558  \n",
       "5997                 0    0.042697  \n",
       "\n",
       "[5 rows x 28 columns]"
      ]
     },
     "execution_count": 51,
     "metadata": {},
     "output_type": "execute_result"
    }
   ],
   "source": [
    "df.sample(5)"
   ]
  },
  {
   "cell_type": "markdown",
   "metadata": {},
   "source": [
    "## Cek Korelasi antar fitur"
   ]
  },
  {
   "cell_type": "code",
   "execution_count": 52,
   "metadata": {},
   "outputs": [],
   "source": [
    "%matplotlib inline\n",
    "\n",
    "sns.set(rc={'figure.figsize':(20.7,20.7)})\n",
    "sns.set_style(\"dark\")\n",
    "sns.color_palette(\"dark\")\n",
    "plt.style.use(\"fivethirtyeight\")"
   ]
  },
  {
   "cell_type": "markdown",
   "metadata": {},
   "source": [
    "Dengan plot heatmap correlation berikut, cek apakah ada feature yang berkorelasi sangat tinggi."
   ]
  },
  {
   "cell_type": "code",
   "execution_count": 53,
   "metadata": {},
   "outputs": [
    {
     "data": {
      "text/plain": [
       "<matplotlib.axes._subplots.AxesSubplot at 0x1f3b1d3f6c8>"
      ]
     },
     "execution_count": 53,
     "metadata": {},
     "output_type": "execute_result"
    },
    {
     "data": {
      "image/png": "[encoded data removed]",
      "text/plain": [
       "<Figure size 1490.4x1490.4 with 2 Axes>"
      ]
     },
     "metadata": {},
     "output_type": "display_data"
    }
   ],
   "source": [
    "sns.heatmap(df.corr(), vmin=-1, vmax=1, cmap=\"RdYlGn\")"
   ]
  },
  {
   "cell_type": "markdown",
   "metadata": {},
   "source": [
    "# Step 2 : Model Evaluation"
   ]
  },
  {
   "cell_type": "markdown",
   "metadata": {},
   "source": [
    "Setelah memastikan data sudah siap diolah, assign dataframe `df` menjadi array `x` dan `y`. Kemudian lakukan `train_test_split` untuk menghasilkan validation set. Lanjutkan dengan training lalu implementasi model pada validation set."
   ]
  },
  {
   "cell_type": "markdown",
   "metadata": {},
   "source": [
    "## Model Evaluation Ke 1 :  Linear Regressor"
   ]
  },
  {
   "cell_type": "code",
   "execution_count": 36,
   "metadata": {},
   "outputs": [
    {
     "name": "stdout",
     "output_type": "stream",
     "text": [
      "Accuracy on Training set:  0.750500911168643\n",
      "Accuracy on Testing set:  0.7712604981764388\n",
      "Mean squared error: 0.0075\n",
      "R Mean squared error: 0.0868\n",
      "Mean Absolute error: 0.0592\n",
      "Variance score: 0.77\n"
     ]
    }
   ],
   "source": [
    "x = df.iloc[:,:-1].values\n",
    "y = df.iloc[:, -1].values\n",
    "\n",
    "from sklearn.model_selection import train_test_split \n",
    "xtrain, xtest, ytrain, ytest = train_test_split(x,y,test_size=0.2,random_state = 1990)\n",
    "\n",
    "from sklearn.linear_model import LinearRegression \n",
    "regressor = LinearRegression()\n",
    "regressor.fit(xtrain, ytrain)\n",
    "\n",
    "pred = regressor.predict(xtest)\n",
    "np.set_printoptions(precision=2)\n",
    "# print(np.concatenate((pred.reshape(len(pred),1), ytest.reshape(len(ytest),1)),1))\n",
    "\n",
    "#Cek Akurasi Training dan Test Data\n",
    "print(\"Accuracy on Training set: \",regressor.score(xtrain,ytrain))\n",
    "print(\"Accuracy on Testing set: \",regressor.score(xtest,ytest))\n",
    "\n",
    "from sklearn.metrics import mean_squared_error,mean_absolute_error\n",
    "print(\"Mean squared error: %.4f\" % mean_squared_error(ytest, pred))\n",
    "\n",
    "# The Root mean squared error\n",
    "print(\"R Mean squared error: %.4f\" % mean_squared_error(ytest, pred, squared=False))\n",
    "\n",
    "# The mean_absolute_error\n",
    "MAE_LR=mean_absolute_error(ytest, pred)\n",
    "print(\"Mean Absolute error: %.4f\" % mean_absolute_error(ytest, pred))\n",
    "\n",
    "# Explained variance score: 1 is perfect prediction\n",
    "from sklearn.metrics import r2_score\n",
    "print('Variance score: %.2f' % r2_score(ytest, pred))"
   ]
  },
  {
   "cell_type": "markdown",
   "metadata": {},
   "source": [
    "## Model Evaluation Ke 2 : Gradient Boosting Regressor"
   ]
  },
  {
   "cell_type": "code",
   "execution_count": 37,
   "metadata": {},
   "outputs": [
    {
     "name": "stdout",
     "output_type": "stream",
     "text": [
      "Accuracy on Training set:  0.9236964656363537\n",
      "Accuracy on Testing set:  0.9030636706837601\n",
      "Mean squared error: 0.0032\n",
      "R Mean squared error: 0.0565\n",
      "Mean Absolute error: 0.0321\n",
      "Variance score: 0.90\n"
     ]
    }
   ],
   "source": [
    "from sklearn.model_selection import train_test_split \n",
    "xtrain, xtest, ytrain, ytest = train_test_split(x,y,test_size=0.2, random_state=1990)\n",
    "\n",
    "#Fitting simple linear regression to the Training Set\n",
    "from sklearn.ensemble import GradientBoostingRegressor\n",
    "regressor = GradientBoostingRegressor()\n",
    "regressor.fit(xtrain, ytrain)\n",
    "\n",
    "pred = regressor.predict(xtest)\n",
    "np.set_printoptions(precision=2)\n",
    "# print(np.concatenate((pred.reshape(len(pred),1), ytest.reshape(len(ytest),1)),1))\n",
    "\n",
    "#Cek Akurasi\n",
    "from sklearn.ensemble import GradientBoostingRegressor\n",
    "regressor = GradientBoostingRegressor()\n",
    "regressor.fit(xtrain, ytrain)\n",
    "print(\"Accuracy on Training set: \",regressor.score(xtrain,ytrain))\n",
    "print(\"Accuracy on Testing set: \",regressor.score(xtest,ytest))\n",
    "\n",
    "\n",
    "from sklearn.metrics import mean_squared_error,mean_absolute_error\n",
    "print(\"Mean squared error: %.4f\" % mean_squared_error(ytest, pred))\n",
    "\n",
    "# The Root mean squared error\n",
    "print(\"R Mean squared error: %.4f\" % mean_squared_error(ytest, pred, squared=False))\n",
    "\n",
    "# The mean_absolute_error\n",
    "print(\"Mean Absolute error: %.4f\" % mean_absolute_error(ytest, pred))\n",
    "\n",
    "# Explained variance score: 1 is perfect prediction\n",
    "from sklearn.metrics import r2_score\n",
    "print('Variance score: %.2f' % r2_score(ytest, pred))"
   ]
  },
  {
   "cell_type": "markdown",
   "metadata": {},
   "source": [
    "## Model Evaluation Ke 3 : Random Forest Regressor"
   ]
  },
  {
   "cell_type": "code",
   "execution_count": 38,
   "metadata": {},
   "outputs": [
    {
     "name": "stdout",
     "output_type": "stream",
     "text": [
      "Accuracy on Training set:  0.9873273073583227\n",
      "Accuracy on Testing set:  0.9259607712668714\n",
      "Mean squared error: 0.0024\n",
      "R Mean squared error: 0.0494\n",
      "Mean Absolute error: 0.0255\n",
      "Variance score: 0.93\n"
     ]
    }
   ],
   "source": [
    "#Spliting Training dan Test\n",
    "from sklearn.model_selection import train_test_split \n",
    "xtrain, xtest, ytrain, ytest = train_test_split(x,y,test_size=0.2, random_state=1990)\n",
    "\n",
    "#Random Forest Regressor Evaluation\n",
    "from sklearn.ensemble import RandomForestRegressor\n",
    "rf_reg = RandomForestRegressor()\n",
    "rf_reg.fit(xtrain, ytrain)\n",
    "pred = rf_reg.predict(xtest)\n",
    "\n",
    "#Cek Akurasi\n",
    "print(\"Accuracy on Training set: \",rf_reg.score(xtrain,ytrain))\n",
    "print(\"Accuracy on Testing set: \",rf_reg.score(xtest,ytest))\n",
    "\n",
    "\n",
    "from sklearn.metrics import mean_squared_error,mean_absolute_error\n",
    "print(\"Mean squared error: %.4f\" % mean_squared_error(ytest, pred))\n",
    "\n",
    "# The Root mean squared error\n",
    "print(\"R Mean squared error: %.4f\" % mean_squared_error(ytest, pred, squared=False))\n",
    "\n",
    "# The mean_absolute_error\n",
    "MAE_RF = mean_absolute_error(ytest, pred)\n",
    "print(\"Mean Absolute error: %.4f\" % mean_absolute_error(ytest, pred))\n",
    "\n",
    "# Explained variance score: 1 is perfect prediction\n",
    "from sklearn.metrics import r2_score\n",
    "print('Variance score: %.2f' % r2_score(ytest, pred))"
   ]
  },
  {
   "cell_type": "markdown",
   "metadata": {},
   "source": [
    "## Hasil Model Linear Regression vs Random Forest Regression"
   ]
  },
  {
   "cell_type": "code",
   "execution_count": 54,
   "metadata": {},
   "outputs": [
    {
     "name": "stdout",
     "output_type": "stream",
     "text": [
      "Rata - rata selisih harga menggunakan Model Linear Regression adalah : 0.56 lakh\n",
      "Rata - rata selisih harga menggunakan Model Random Forest adalah : 0.24 lakh\n",
      "\n",
      "atau\n",
      "\n",
      "Rata - rata selisih harga menggunakan Model Linear Regression adalah : 11383256 Rupiah\n",
      "Rata - rata selisih harga menggunakan Model Random Forest adalah : 4910462 Rupiah\n"
     ]
    }
   ],
   "source": [
    "# Merubah MSE tersebut menjadi dalam satuan uang\n",
    "dfcheck = pd.read_csv('train-data.csv')\n",
    "\n",
    "dfcheck['Price_Diff_LR']=dfcheck['Price']*MAE_LR # selisih harga menggunakan Model Linear Regression\n",
    "dfcheck['Price_Diff_RF']=dfcheck['Price']*MAE_RF # selisih harga menggunakan Model Random Forest\n",
    "\n",
    "Mean_Price_Diff_LR = dfcheck['Price_Diff_LR'].mean() # rata - rata selisih harga menggunakan Model Linear Regression (Lakh)\n",
    "Mean_Price_Diff_RF = dfcheck['Price_Diff_RF'].mean() # rata - rata selisih harga menggunakan Model Random Forest (Lakh)\n",
    "\n",
    "\n",
    "print('Rata - rata selisih harga menggunakan Model Linear Regression adalah : %.2f' %Mean_Price_Diff_LR,'lakh')\n",
    "print('Rata - rata selisih harga menggunakan Model Random Forest adalah : %.2f' %Mean_Price_Diff_RF,'lakh')\n",
    "\n",
    "print('\\natau\\n')\n",
    "\n",
    "Mean_Price_Diff_LR = dfcheck['Price_Diff_LR'].mean()*20287222 # rata - rata selisih harga menggunakan Model Linear Regression (Rupiah)\n",
    "Mean_Price_Diff_RF = dfcheck['Price_Diff_RF'].mean()*20287222 # rata - rata selisih harga menggunakan Model Random Forest (Rupiah)\n",
    "\n",
    "print('Rata - rata selisih harga menggunakan Model Linear Regression adalah : %.0f' %Mean_Price_Diff_LR,'Rupiah')\n",
    "print('Rata - rata selisih harga menggunakan Model Random Forest adalah : %.0f' %Mean_Price_Diff_RF,'Rupiah')"
   ]
  }
 ],
 "metadata": {
  "kernelspec": {
   "display_name": "Python 3",
   "language": "python",
   "name": "python3"
  },
  "language_info": {
   "codemirror_mode": {
    "name": "ipython",
    "version": 3
   },
   "file_extension": ".py",
   "mimetype": "text/x-python",
   "name": "python",
   "nbconvert_exporter": "python",
   "pygments_lexer": "ipython3",
   "version": "3.8.5"
  }
 },
 "nbformat": 4,
 "nbformat_minor": 4
}
